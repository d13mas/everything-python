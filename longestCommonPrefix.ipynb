{
 "cells": [
  {
   "cell_type": "code",
   "execution_count": 1,
   "id": "7ee69103-ad8f-4e5c-93c3-72e5d2876bd3",
   "metadata": {},
   "outputs": [],
   "source": [
    "def longestCommonPrefix(strs):\n",
    "    if not strs:\n",
    "        return \"\"\n",
    "\n",
    "    strs.sort()\n",
    "\n",
    "    prefix = strs[0]\n",
    "\n",
    "    for i in range(len(prefix)):\n",
    "        # print('i: '+str(i))\n",
    "        for string in strs[1:]:\n",
    "            # print('str: '+string)\n",
    "            # print('string-I: '+string[i])\n",
    "            # print('prefix-I: '+prefix[i])\n",
    "            if string[i] != prefix[i]:\n",
    "                return prefix[:i]\n",
    "    return prefix"
   ]
  },
  {
   "cell_type": "code",
   "execution_count": 2,
   "id": "f9c0a2f7-eaeb-4806-9c6f-c55d7fc8c71f",
   "metadata": {},
   "outputs": [],
   "source": [
    "strs = [\"abb\", \"abc\"]"
   ]
  },
  {
   "cell_type": "code",
   "execution_count": 3,
   "id": "328f4ba1-8b1e-4469-9d44-a967d0d9e534",
   "metadata": {},
   "outputs": [
    {
     "name": "stdout",
     "output_type": "stream",
     "text": [
      "RES: ab\n"
     ]
    }
   ],
   "source": [
    "print(\"RES: \"+longestCommonPrefix(strs))"
   ]
  },
  {
   "cell_type": "code",
   "execution_count": null,
   "id": "0d3b0719-d327-496e-87f2-bd96e7df0ddc",
   "metadata": {},
   "outputs": [],
   "source": []
  }
 ],
 "metadata": {
  "kernelspec": {
   "display_name": "Python 3 (ipykernel)",
   "language": "python",
   "name": "python3"
  },
  "language_info": {
   "codemirror_mode": {
    "name": "ipython",
    "version": 3
   },
   "file_extension": ".py",
   "mimetype": "text/x-python",
   "name": "python",
   "nbconvert_exporter": "python",
   "pygments_lexer": "ipython3",
   "version": "3.12.7"
  }
 },
 "nbformat": 4,
 "nbformat_minor": 5
}
